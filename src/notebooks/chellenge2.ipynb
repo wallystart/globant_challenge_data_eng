{
 "cells": [
  {
   "cell_type": "markdown",
   "id": "6db34e12",
   "metadata": {},
   "source": [
    "##### SparkSession"
   ]
  },
  {
   "cell_type": "code",
   "execution_count": 1,
   "id": "35c4c72d",
   "metadata": {},
   "outputs": [
    {
     "name": "stderr",
     "output_type": "stream",
     "text": [
      "WARNING: An illegal reflective access operation has occurred\n",
      "WARNING: Illegal reflective access by org.apache.spark.unsafe.Platform (file:/usr/local/lib/python3.9/dist-packages/pyspark/jars/spark-unsafe_2.12-3.0.2.jar) to constructor java.nio.DirectByteBuffer(long,int)\n",
      "WARNING: Please consider reporting this to the maintainers of org.apache.spark.unsafe.Platform\n",
      "WARNING: Use --illegal-access=warn to enable warnings of further illegal reflective access operations\n",
      "WARNING: All illegal access operations will be denied in a future release\n",
      "23/02/13 20:44:46 WARN NativeCodeLoader: Unable to load native-hadoop library for your platform... using builtin-java classes where applicable\n",
      "Using Spark's default log4j profile: org/apache/spark/log4j-defaults.properties\n",
      "Setting default log level to \"WARN\".\n",
      "To adjust logging level use sc.setLogLevel(newLevel). For SparkR, use setLogLevel(newLevel).\n",
      "23/02/13 20:44:48 WARN SparkContext: Please ensure that the number of slots available on your executors is limited by the number of cores to task cpus and not another custom resource. If cores is not the limiting resource then dynamic allocation will not work properly!\n"
     ]
    }
   ],
   "source": [
    "import os\n",
    "import logging\n",
    "from pyspark.sql import SparkSession\n",
    "\n",
    "#os.environ[\"PYSPARK_PYTHON\"] = '/opt/.venv/bin/python'\n",
    "#os.environ[\"SPARK_HOME\"] = '/opt/spark'\n",
    "\n",
    "def init_spark():\n",
    "    \"\"\"\n",
    "    Initializes SparkSession and returns SparkSession and SparkContext objects\n",
    "    \n",
    "    Returns:\n",
    "        SparkSession, SparkContext: objects of SparkSession and SparkContext respectively\n",
    "    \"\"\"\n",
    "    logging.info(\"Initializing Spark session\")\n",
    "    spark = SparkSession.builder\\\n",
    "                        .appName(\"query\")\\\n",
    "                        .master(\"spark://spark-master:7077\")\\\n",
    "                        .config(\"spark.jars\", \"../spark-apps/packages/postgresql-42.2.22.jar\")\\\n",
    "                        .config(\"spark.executor.memory\", \"512m\")\\\n",
    "                        .getOrCreate()\n",
    "    logging.info(\"Spark session initialized successfully\")\n",
    "    return spark\n",
    "\n",
    "spark = init_spark()"
   ]
  },
  {
   "cell_type": "code",
   "execution_count": 7,
   "id": "3893c950",
   "metadata": {},
   "outputs": [],
   "source": [
    "POSTGRES_DB = os.getenv('POSTGRES_DB')\n",
    "POSTGRES_USER = os.getenv('POSTGRES_USER')\n",
    "POSTGRES_PASSWORD = os.getenv('POSTGRES_PASSWORD')\n",
    "POSTGRES_ENDPOINT = \"postgres_database:5432\"\n",
    "\n",
    "departments = spark.read \\\n",
    "                   .format(\"jdbc\") \\\n",
    "                   .option(\"url\", f\"jdbc:postgresql://{POSTGRES_ENDPOINT}/{POSTGRES_DB}\") \\\n",
    "                   .option(\"dbtable\", \"dbo.departments\") \\\n",
    "                   .option(\"user\", POSTGRES_USER) \\\n",
    "                   .option(\"password\", POSTGRES_PASSWORD) \\\n",
    "                   .option(\"driver\", \"org.postgresql.Driver\") \\\n",
    "                   .load()\n",
    "\n",
    "hired_employees = spark.read \\\n",
    "                   .format(\"jdbc\") \\\n",
    "                   .option(\"url\", f\"jdbc:postgresql://{POSTGRES_ENDPOINT}/{POSTGRES_DB}\") \\\n",
    "                   .option(\"dbtable\", \"dbo.hired_employees\") \\\n",
    "                   .option(\"user\", POSTGRES_USER) \\\n",
    "                   .option(\"password\", POSTGRES_PASSWORD) \\\n",
    "                   .option(\"driver\", \"org.postgresql.Driver\") \\\n",
    "                   .load()\n",
    "\n",
    "jobs = spark.read \\\n",
    "               .format(\"jdbc\") \\\n",
    "               .option(\"url\", f\"jdbc:postgresql://{POSTGRES_ENDPOINT}/{POSTGRES_DB}\") \\\n",
    "               .option(\"dbtable\", \"dbo.jobs\") \\\n",
    "               .option(\"user\", POSTGRES_USER) \\\n",
    "               .option(\"password\", POSTGRES_PASSWORD) \\\n",
    "               .option(\"driver\", \"org.postgresql.Driver\") \\\n",
    "               .load()"
   ]
  },
  {
   "cell_type": "markdown",
   "id": "0b1b06a7",
   "metadata": {},
   "source": [
    "- Number of employees hired for each job and department in 2021 divided by quarter. The table must be ordered alphabetically by department and job"
   ]
  },
  {
   "cell_type": "code",
   "execution_count": 41,
   "id": "fcb07d2e",
   "metadata": {},
   "outputs": [],
   "source": [
    "from pyspark.sql.types import DateType\n",
    "from pyspark.sql import functions as f\n",
    "\n",
    "df_1 = hired_employees.join(departments, \n",
    "                            hired_employees.department_id == departments.id)\\\n",
    "                      .join(jobs,\n",
    "                            hired_employees.job_id == jobs.id)\\\n",
    "                      .drop('id')\n",
    "\n",
    "#df_1 = df_1.withColumn(\"datetime\", f.to_date(\"datetime\", \"yyyy-MM-dd'T'HH:mm:ss'Z'\"))\n",
    "#df_1 = df_1.where(f.year(df_1.datetime) == 2021)"
   ]
  },
  {
   "cell_type": "code",
   "execution_count": 40,
   "id": "86e6bdfa",
   "metadata": {},
   "outputs": [
    {
     "data": {
      "text/plain": [
       "DataFrame[name: string, datetime: string, department_id: bigint, job_id: bigint, department: string, job: string, fecha: date]"
      ]
     },
     "execution_count": 40,
     "metadata": {},
     "output_type": "execute_result"
    }
   ],
   "source": []
  },
  {
   "cell_type": "code",
   "execution_count": 46,
   "id": "c2d83857",
   "metadata": {},
   "outputs": [
    {
     "name": "stderr",
     "output_type": "stream",
     "text": [
      "[Stage 205:==================================================>  (191 + 1) / 200]\r"
     ]
    },
    {
     "name": "stdout",
     "output_type": "stream",
     "text": [
      "+--------------------+--------------------+----+---+---+---+---+\n",
      "|          department|                 job|null|  1|  2|  3|  4|\n",
      "+--------------------+--------------------+----+---+---+---+---+\n",
      "|           Marketing|               Nurse|   0|  0|  1|  0|  0|\n",
      "|Business Development|        Accountant I|   0|  0|  0|  1|  0|\n",
      "|Research and Deve...|        Geologist IV|   0|  0|  0|  1|  0|\n",
      "|            Services|   Assistant Manager|   0|  1|  0|  0|  0|\n",
      "|         Engineering|     Project Manager|   0|  0|  2|  1|  0|\n",
      "|           Marketing|Sales Representative|   0|  0|  2|  0|  1|\n",
      "|          Accounting|      Programmer III|   0|  0|  0|  1|  0|\n",
      "|            Services|Occupational Ther...|   0|  0|  1|  1|  0|\n",
      "|               Sales|     Web Developer I|   0|  1|  0|  0|  0|\n",
      "|         Engineering|Software Test Eng...|   0|  0|  1|  0|  1|\n",
      "|Business Development|     Legal Assistant|   0|  1|  0|  1|  1|\n",
      "|            Training|             Actuary|   0|  0|  0|  1|  0|\n",
      "|Research and Deve...|        Food Chemist|   0|  0|  0|  0|  1|\n",
      "|Business Development|Occupational Ther...|   0|  0|  3|  0|  0|\n",
      "|     Human Resources|        Food Chemist|   0|  0|  0|  0|  1|\n",
      "|               Sales|             Actuary|   0|  0|  1|  0|  0|\n",
      "|            Services|Senior Sales Asso...|   0|  1|  0|  0|  0|\n",
      "|         Engineering|Software Test Eng...|   0|  1|  0|  0|  1|\n",
      "|            Services|Senior Quality En...|   0|  1|  0|  0|  0|\n",
      "|               Sales|Senior Financial ...|   0|  1|  1|  0|  0|\n",
      "+--------------------+--------------------+----+---+---+---+---+\n",
      "only showing top 20 rows\n",
      "\n"
     ]
    },
    {
     "name": "stderr",
     "output_type": "stream",
     "text": [
      "                                                                                \r"
     ]
    }
   ],
   "source": [
    "# parseamos la columna datetime\n",
    "df_1 = df_1.withColumn(\"fecha\", df_1[\"datetime\"].cast(DateType()))\n",
    "\n",
    "# agrupamos los registros por \"department\", \"job\" y \"quarter\" y count()\n",
    "df = df_1.groupBy(\"department\", \"job\", f.quarter(\"fecha\").alias(\"quarter\")) \\\n",
    "  .agg(f.count(\"name\").alias(\"num_empleados\"))\n",
    "\n",
    "# ordenamos por \"department\" y \"job\"\n",
    "df = df.orderBy(\"department\", \"job\")\n",
    "\n",
    "df.groupBy(\"department\", \"job\").pivot(\"quarter\").agg(f.sum(\"num_empleados\")).na.fill(0).show()"
   ]
  },
  {
   "cell_type": "markdown",
   "id": "2bb823f1",
   "metadata": {},
   "source": [
    "- Number of employees hired for each job and department in 2021 divided by quarter. The table must be ordered alphabetically by department and job"
   ]
  },
  {
   "cell_type": "code",
   "execution_count": 2,
   "id": "86d58c8b",
   "metadata": {},
   "outputs": [],
   "source": [
    "# CODE"
   ]
  },
  {
   "cell_type": "code",
   "execution_count": null,
   "id": "1d34c917",
   "metadata": {},
   "outputs": [],
   "source": []
  }
 ],
 "metadata": {
  "kernelspec": {
   "display_name": "Python 3 (ipykernel)",
   "language": "python",
   "name": "python3"
  },
  "language_info": {
   "codemirror_mode": {
    "name": "ipython",
    "version": 3
   },
   "file_extension": ".py",
   "mimetype": "text/x-python",
   "name": "python",
   "nbconvert_exporter": "python",
   "pygments_lexer": "ipython3",
   "version": "3.9.2"
  }
 },
 "nbformat": 4,
 "nbformat_minor": 5
}
