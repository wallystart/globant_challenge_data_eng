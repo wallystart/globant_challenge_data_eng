{
 "cells": [
  {
   "cell_type": "markdown",
   "id": "2e9fbacc",
   "metadata": {},
   "source": [
    "##### SparkSession"
   ]
  },
  {
   "cell_type": "code",
   "execution_count": 1,
   "id": "dd1016be",
   "metadata": {},
   "outputs": [
    {
     "name": "stderr",
     "output_type": "stream",
     "text": [
      "WARNING: An illegal reflective access operation has occurred\n",
      "WARNING: Illegal reflective access by org.apache.spark.unsafe.Platform (file:/usr/local/lib/python3.9/dist-packages/pyspark/jars/spark-unsafe_2.12-3.0.2.jar) to constructor java.nio.DirectByteBuffer(long,int)\n",
      "WARNING: Please consider reporting this to the maintainers of org.apache.spark.unsafe.Platform\n",
      "WARNING: Use --illegal-access=warn to enable warnings of further illegal reflective access operations\n",
      "WARNING: All illegal access operations will be denied in a future release\n",
      "23/02/09 08:20:27 WARN NativeCodeLoader: Unable to load native-hadoop library for your platform... using builtin-java classes where applicable\n",
      "Using Spark's default log4j profile: org/apache/spark/log4j-defaults.properties\n",
      "Setting default log level to \"WARN\".\n",
      "To adjust logging level use sc.setLogLevel(newLevel). For SparkR, use setLogLevel(newLevel).\n",
      "23/02/09 08:20:29 WARN SparkContext: Please ensure that the number of slots available on your executors is limited by the number of cores to task cpus and not another custom resource. If cores is not the limiting resource then dynamic allocation will not work properly!\n"
     ]
    }
   ],
   "source": [
    "import os\n",
    "import logging\n",
    "from pyspark.sql import SparkSession\n",
    "\n",
    "#os.environ[\"PYSPARK_PYTHON\"] = '/opt/.venv/bin/python'\n",
    "#os.environ[\"SPARK_HOME\"] = '/opt/spark'\n",
    "\n",
    "def init_spark():\n",
    "    \"\"\"\n",
    "    Initializes SparkSession and returns SparkSession and SparkContext objects\n",
    "    \n",
    "    Returns:\n",
    "        SparkSession, SparkContext: objects of SparkSession and SparkContext respectively\n",
    "    \"\"\"\n",
    "    logging.info(\"Initializing Spark session\")\n",
    "    spark = SparkSession.builder\\\n",
    "                        .appName(\"query\")\\\n",
    "                        .master(\"spark://spark-master:7077\")\\\n",
    "                        .config(\"spark.jars\", \"../spark-apps/packages/postgresql-42.2.22.jar\")\\\n",
    "                        .config(\"spark.executor.memory\", \"512m\")\\\n",
    "                        .getOrCreate()\n",
    "    logging.info(\"Spark session initialized successfully\")\n",
    "    return spark\n",
    "\n",
    "spark = init_spark()"
   ]
  },
  {
   "cell_type": "code",
   "execution_count": 12,
   "id": "4f1d00ec",
   "metadata": {},
   "outputs": [],
   "source": [
    "departments = spark.read \\\n",
    "                   .format(\"jdbc\") \\\n",
    "                   .option(\"url\", \"jdbc:postgresql://postgres_database:5432/globant_challenge_db\") \\\n",
    "                   .option(\"dbtable\", \"dbo.departments\") \\\n",
    "                   .option(\"user\", \"globant_super_admin\") \\\n",
    "                   .option(\"password\", \"pass1234\") \\\n",
    "                   .option(\"driver\", \"org.postgresql.Driver\") \\\n",
    "                   .load()\n",
    "\n",
    "hired_employees = spark.read \\\n",
    "                   .format(\"jdbc\") \\\n",
    "                   .option(\"url\", \"jdbc:postgresql://postgres_database:5432/globant_challenge_db\") \\\n",
    "                   .option(\"dbtable\", \"dbo.hired_employees\") \\\n",
    "                   .option(\"user\", \"globant_super_admin\") \\\n",
    "                   .option(\"password\", \"pass1234\") \\\n",
    "                   .option(\"driver\", \"org.postgresql.Driver\") \\\n",
    "                   .load()\n",
    "\n",
    "jobs = spark.read \\\n",
    "               .format(\"jdbc\") \\\n",
    "               .option(\"url\", \"jdbc:postgresql://postgres_database:5432/globant_challenge_db\") \\\n",
    "               .option(\"dbtable\", \"dbo.jobs\") \\\n",
    "               .option(\"user\", \"globant_super_admin\") \\\n",
    "               .option(\"password\", \"pass1234\") \\\n",
    "               .option(\"driver\", \"org.postgresql.Driver\") \\\n",
    "               .load()"
   ]
  },
  {
   "cell_type": "markdown",
   "id": "71d4d2b7",
   "metadata": {},
   "source": [
    "- Number of employees hired for each job and department in 2021 divided by quarter. The table must be ordered alphabetically by department and job"
   ]
  },
  {
   "cell_type": "code",
   "execution_count": null,
   "id": "79ebe2f0",
   "metadata": {},
   "outputs": [],
   "source": [
    "# CODE"
   ]
  },
  {
   "cell_type": "markdown",
   "id": "c3526e64",
   "metadata": {},
   "source": [
    "- Number of employees hired for each job and department in 2021 divided by quarter. The table must be ordered alphabetically by department and job"
   ]
  },
  {
   "cell_type": "code",
   "execution_count": 2,
   "id": "ccd59671",
   "metadata": {},
   "outputs": [],
   "source": [
    "# CODE"
   ]
  },
  {
   "cell_type": "code",
   "execution_count": null,
   "id": "4c3569a0",
   "metadata": {},
   "outputs": [],
   "source": []
  }
 ],
 "metadata": {
  "kernelspec": {
   "display_name": "Python 3 (ipykernel)",
   "language": "python",
   "name": "python3"
  },
  "language_info": {
   "codemirror_mode": {
    "name": "ipython",
    "version": 3
   },
   "file_extension": ".py",
   "mimetype": "text/x-python",
   "name": "python",
   "nbconvert_exporter": "python",
   "pygments_lexer": "ipython3",
   "version": "3.9.2"
  }
 },
 "nbformat": 4,
 "nbformat_minor": 5
}
